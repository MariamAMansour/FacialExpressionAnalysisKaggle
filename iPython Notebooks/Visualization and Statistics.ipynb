{
 "cells": [
  {
   "cell_type": "markdown",
   "metadata": {},
   "source": [
    "### Imports"
   ]
  },
  {
   "cell_type": "code",
   "execution_count": 1,
   "metadata": {
    "scrolled": true
   },
   "outputs": [
    {
     "name": "stderr",
     "output_type": "stream",
     "text": [
      "Using TensorFlow backend.\n",
      "C:\\Users\\shrfm\\.conda\\envs\\capstone-project\\lib\\site-packages\\tensorflow\\python\\framework\\dtypes.py:516: FutureWarning: Passing (type, 1) or '1type' as a synonym of type is deprecated; in a future version of numpy, it will be understood as (type, (1,)) / '(1,)type'.\n",
      "  _np_qint8 = np.dtype([(\"qint8\", np.int8, 1)])\n",
      "C:\\Users\\shrfm\\.conda\\envs\\capstone-project\\lib\\site-packages\\tensorflow\\python\\framework\\dtypes.py:517: FutureWarning: Passing (type, 1) or '1type' as a synonym of type is deprecated; in a future version of numpy, it will be understood as (type, (1,)) / '(1,)type'.\n",
      "  _np_quint8 = np.dtype([(\"quint8\", np.uint8, 1)])\n",
      "C:\\Users\\shrfm\\.conda\\envs\\capstone-project\\lib\\site-packages\\tensorflow\\python\\framework\\dtypes.py:518: FutureWarning: Passing (type, 1) or '1type' as a synonym of type is deprecated; in a future version of numpy, it will be understood as (type, (1,)) / '(1,)type'.\n",
      "  _np_qint16 = np.dtype([(\"qint16\", np.int16, 1)])\n",
      "C:\\Users\\shrfm\\.conda\\envs\\capstone-project\\lib\\site-packages\\tensorflow\\python\\framework\\dtypes.py:519: FutureWarning: Passing (type, 1) or '1type' as a synonym of type is deprecated; in a future version of numpy, it will be understood as (type, (1,)) / '(1,)type'.\n",
      "  _np_quint16 = np.dtype([(\"quint16\", np.uint16, 1)])\n",
      "C:\\Users\\shrfm\\.conda\\envs\\capstone-project\\lib\\site-packages\\tensorflow\\python\\framework\\dtypes.py:520: FutureWarning: Passing (type, 1) or '1type' as a synonym of type is deprecated; in a future version of numpy, it will be understood as (type, (1,)) / '(1,)type'.\n",
      "  _np_qint32 = np.dtype([(\"qint32\", np.int32, 1)])\n",
      "C:\\Users\\shrfm\\.conda\\envs\\capstone-project\\lib\\site-packages\\tensorflow\\python\\framework\\dtypes.py:525: FutureWarning: Passing (type, 1) or '1type' as a synonym of type is deprecated; in a future version of numpy, it will be understood as (type, (1,)) / '(1,)type'.\n",
      "  np_resource = np.dtype([(\"resource\", np.ubyte, 1)])\n",
      "C:\\Users\\shrfm\\.conda\\envs\\capstone-project\\lib\\site-packages\\tensorboard\\compat\\tensorflow_stub\\dtypes.py:541: FutureWarning: Passing (type, 1) or '1type' as a synonym of type is deprecated; in a future version of numpy, it will be understood as (type, (1,)) / '(1,)type'.\n",
      "  _np_qint8 = np.dtype([(\"qint8\", np.int8, 1)])\n",
      "C:\\Users\\shrfm\\.conda\\envs\\capstone-project\\lib\\site-packages\\tensorboard\\compat\\tensorflow_stub\\dtypes.py:542: FutureWarning: Passing (type, 1) or '1type' as a synonym of type is deprecated; in a future version of numpy, it will be understood as (type, (1,)) / '(1,)type'.\n",
      "  _np_quint8 = np.dtype([(\"quint8\", np.uint8, 1)])\n",
      "C:\\Users\\shrfm\\.conda\\envs\\capstone-project\\lib\\site-packages\\tensorboard\\compat\\tensorflow_stub\\dtypes.py:543: FutureWarning: Passing (type, 1) or '1type' as a synonym of type is deprecated; in a future version of numpy, it will be understood as (type, (1,)) / '(1,)type'.\n",
      "  _np_qint16 = np.dtype([(\"qint16\", np.int16, 1)])\n",
      "C:\\Users\\shrfm\\.conda\\envs\\capstone-project\\lib\\site-packages\\tensorboard\\compat\\tensorflow_stub\\dtypes.py:544: FutureWarning: Passing (type, 1) or '1type' as a synonym of type is deprecated; in a future version of numpy, it will be understood as (type, (1,)) / '(1,)type'.\n",
      "  _np_quint16 = np.dtype([(\"quint16\", np.uint16, 1)])\n",
      "C:\\Users\\shrfm\\.conda\\envs\\capstone-project\\lib\\site-packages\\tensorboard\\compat\\tensorflow_stub\\dtypes.py:545: FutureWarning: Passing (type, 1) or '1type' as a synonym of type is deprecated; in a future version of numpy, it will be understood as (type, (1,)) / '(1,)type'.\n",
      "  _np_qint32 = np.dtype([(\"qint32\", np.int32, 1)])\n",
      "C:\\Users\\shrfm\\.conda\\envs\\capstone-project\\lib\\site-packages\\tensorboard\\compat\\tensorflow_stub\\dtypes.py:550: FutureWarning: Passing (type, 1) or '1type' as a synonym of type is deprecated; in a future version of numpy, it will be understood as (type, (1,)) / '(1,)type'.\n",
      "  np_resource = np.dtype([(\"resource\", np.ubyte, 1)])\n"
     ]
    }
   ],
   "source": [
    "import pandas as pd\n",
    "import numpy as np\n",
    "from keras.utils import np_utils\n",
    "from keras.models import Sequential\n",
    "from keras.layers import Dense, Flatten, Dropout, Conv2D, MaxPooling2D, GlobalAveragePooling2D\n",
    "from keras.callbacks import ModelCheckpoint\n",
    "import matplotlib.pyplot as plt\n",
    "from PIL import Image"
   ]
  },
  {
   "cell_type": "markdown",
   "metadata": {},
   "source": [
    "### Loading Data:"
   ]
  },
  {
   "cell_type": "code",
   "execution_count": 2,
   "metadata": {},
   "outputs": [],
   "source": [
    "#Extracting Data:\n",
    "data = pd.read_csv(\"fer2013.csv\")\n",
    "\n",
    "emotion = np.array(data['emotion'])\n",
    "pixels = np.array(data['pixels'])\n",
    "usage = np.array(data['Usage'])\n",
    "\n",
    "#Changing string to integer for the pixels\n",
    "for i in range(0, len(pixels)):\n",
    "    numbers = [int(x) for x in pixels[i].split(' ')]\n",
    "    pixels[i] = numbers\n",
    "\n",
    "#Scaling pixels from 0->255 to 0->1\n",
    "for i in range(0,len(pixels)):\n",
    "    for j in range(0, len(pixels[i])):\n",
    "        pixels[i][j] = pixels[i][j]/255\n",
    "\n",
    "#Splitting Data\n",
    "x_train = []\n",
    "y_train = []\n",
    "x_valid = []\n",
    "y_valid = []\n",
    "x_test = []\n",
    "y_test = []\n",
    "\n",
    "for i in range(0, len(usage)):\n",
    "    if (usage[i] == \"Training\"):\n",
    "        x_train.append(pixels[i])\n",
    "        y_train.append(emotion[i])\n",
    "    elif (usage[i] == \"PublicTest\"):\n",
    "        x_valid.append(pixels[i])\n",
    "        y_valid.append(emotion[i])\n",
    "    elif (usage[i] == \"PrivateTest\"):\n",
    "        x_test.append(pixels[i])\n",
    "        y_test.append(emotion[i])\n",
    "\n",
    "x_train = np.array(x_train)\n",
    "y_train = np.array(y_train)\n",
    "x_valid = np.array(x_valid)\n",
    "y_valid = np.array(y_valid)\n",
    "x_test = np.array(x_test)\n",
    "y_test = np.array(y_test)\n",
    "\n",
    "#Unfalttened pictures\n",
    "x_train_square = []\n",
    "x_valid_square = []\n",
    "x_test_square = []\n",
    "\n",
    "for i in range(len(x_train)):\n",
    "    x_train_square.append(x_train[i].reshape(48,48))\n",
    "\n",
    "for i in range(len(x_valid)):\n",
    "    x_valid_square.append(x_valid[i].reshape(48,48))\n",
    "    x_test_square.append(x_test[i].reshape(48,48))"
   ]
  },
  {
   "cell_type": "markdown",
   "metadata": {},
   "source": [
    "### Visualize Images from the dataset"
   ]
  },
  {
   "cell_type": "code",
   "execution_count": 3,
   "metadata": {},
   "outputs": [
    {
     "data": {
      "image/png": "[encoded data removed]",
      "text/plain": [
       "<matplotlib.figure.Figure at 0x14886f3bfd0>"
      ]
     },
     "metadata": {
      "needs_background": "light"
     },
     "output_type": "display_data"
    }
   ],
   "source": [
    "index = 10 #insert any index you want to visualize\n",
    "#in the following line: (x_train_square) can be changed to (x_valid_square) or (x_test_square)\n",
    "arr = np.asarray(x_train_square[index])\n",
    "plt.imshow(arr, cmap='gray', vmin=0, vmax=1)\n",
    "plt.show()"
   ]
  },
  {
   "cell_type": "markdown",
   "metadata": {},
   "source": [
    "### Extracting Information from Data"
   ]
  },
  {
   "cell_type": "code",
   "execution_count": 4,
   "metadata": {},
   "outputs": [
    {
     "name": "stdout",
     "output_type": "stream",
     "text": [
      "Total Number of Pictures =  35887\n",
      "Total Number of Pictures for Training =  28709\n",
      "Total Number of Pictures for Validation =  3589\n",
      "Total Number of Pictures for Testing =  3589\n"
     ]
    }
   ],
   "source": [
    "print(\"Total Number of Pictures = \", len(pixels))\n",
    "print(\"Total Number of Pictures for Training = \", len(x_train))\n",
    "print(\"Total Number of Pictures for Validation = \", len(x_valid))\n",
    "print(\"Total Number of Pictures for Testing = \", len(x_test))"
   ]
  },
  {
   "cell_type": "markdown",
   "metadata": {},
   "source": [
    "### Statistics for each Set"
   ]
  },
  {
   "cell_type": "code",
   "execution_count": 5,
   "metadata": {},
   "outputs": [],
   "source": [
    "def counting(find, array):\n",
    "    #Counts the number of occurrences of (find) in (array)\n",
    "    count = 0\n",
    "    \n",
    "    for i in array:\n",
    "        if i==find:\n",
    "            count=count+1\n",
    "    \n",
    "    return count"
   ]
  },
  {
   "cell_type": "code",
   "execution_count": 6,
   "metadata": {},
   "outputs": [
    {
     "name": "stdout",
     "output_type": "stream",
     "text": [
      "Total Number of each emotion in the Set: \n",
      "Anger:  4953\n",
      "Disgust:  547\n",
      "Fear:  5121\n",
      "Happiness:  8989\n",
      "Sadness:  6077\n",
      "Surprise:  4002\n",
      "Neutral:  6198\n"
     ]
    }
   ],
   "source": [
    "print(\"Total Number of each emotion in the Set: \")\n",
    "#replace (emotion) in the following lines with (y_train)/(y_valid)/(y_test)\n",
    "#for training/validation/testing sets respectively\n",
    "print(\"Anger: \", counting(0,emotion))\n",
    "print(\"Disgust: \", counting(1,emotion))\n",
    "print(\"Fear: \", counting(2,emotion))\n",
    "print(\"Happiness: \", counting(3,emotion))\n",
    "print(\"Sadness: \", counting(4,emotion))\n",
    "print(\"Surprise: \", counting(5,emotion))\n",
    "print(\"Neutral: \", counting(6,emotion))"
   ]
  },
  {
   "cell_type": "markdown",
   "metadata": {},
   "source": [
    "### To test accuracies of saved best models"
   ]
  },
  {
   "cell_type": "code",
   "execution_count": 7,
   "metadata": {},
   "outputs": [],
   "source": [
    "def indexing(find,array):\n",
    "#Returns an array of indexes for (find) in (array)\n",
    "    indexes=[]\n",
    "    \n",
    "    for i in range(len(array)):\n",
    "        if array[i]==find:\n",
    "            indexes.append(i)\n",
    "    \n",
    "    return indexes\n",
    "\n",
    "def filtering(indexes, array):\n",
    "#returns a new array with only the indexes in (indexes)\n",
    "    new_array=[]\n",
    "    \n",
    "    for i in indexes:\n",
    "        new_array.append(array[i])\n",
    "        \n",
    "    return new_array"
   ]
  },
  {
   "cell_type": "markdown",
   "metadata": {},
   "source": [
    "#### MLP"
   ]
  },
  {
   "cell_type": "code",
   "execution_count": 8,
   "metadata": {
    "scrolled": true
   },
   "outputs": [
    {
     "name": "stderr",
     "output_type": "stream",
     "text": [
      "WARNING: Logging before flag parsing goes to stderr.\n",
      "W0831 01:34:58.201165  1952 deprecation_wrapper.py:119] From C:\\Users\\shrfm\\.conda\\envs\\capstone-project\\lib\\site-packages\\keras\\backend\\tensorflow_backend.py:47: The name tf.get_default_graph is deprecated. Please use tf.compat.v1.get_default_graph instead.\n",
      "\n",
      "W0831 01:34:58.225323  1952 deprecation_wrapper.py:119] From C:\\Users\\shrfm\\.conda\\envs\\capstone-project\\lib\\site-packages\\keras\\backend\\tensorflow_backend.py:349: The name tf.placeholder is deprecated. Please use tf.compat.v1.placeholder instead.\n",
      "\n",
      "W0831 01:34:58.229872  1952 deprecation_wrapper.py:119] From C:\\Users\\shrfm\\.conda\\envs\\capstone-project\\lib\\site-packages\\keras\\backend\\tensorflow_backend.py:3145: The name tf.random_uniform is deprecated. Please use tf.random.uniform instead.\n",
      "\n",
      "W0831 01:34:58.262733  1952 deprecation.py:506] From C:\\Users\\shrfm\\.conda\\envs\\capstone-project\\lib\\site-packages\\keras\\backend\\tensorflow_backend.py:2681: calling dropout (from tensorflow.python.ops.nn_ops) with keep_prob is deprecated and will be removed in a future version.\n",
      "Instructions for updating:\n",
      "Please use `rate` instead of `keep_prob`. Rate should be set to `rate = 1 - keep_prob`.\n",
      "W0831 01:34:58.402722  1952 deprecation_wrapper.py:119] From C:\\Users\\shrfm\\.conda\\envs\\capstone-project\\lib\\site-packages\\keras\\backend\\tensorflow_backend.py:140: The name tf.get_default_session is deprecated. Please use tf.compat.v1.get_default_session instead.\n",
      "\n",
      "W0831 01:34:58.402722  1952 deprecation_wrapper.py:119] From C:\\Users\\shrfm\\.conda\\envs\\capstone-project\\lib\\site-packages\\keras\\backend\\tensorflow_backend.py:145: The name tf.ConfigProto is deprecated. Please use tf.compat.v1.ConfigProto instead.\n",
      "\n",
      "W0831 01:35:00.383110  1952 deprecation_wrapper.py:119] From C:\\Users\\shrfm\\.conda\\envs\\capstone-project\\lib\\site-packages\\keras\\optimizers.py:675: The name tf.train.Optimizer is deprecated. Please use tf.compat.v1.train.Optimizer instead.\n",
      "\n",
      "W0831 01:35:00.421248  1952 deprecation.py:506] From C:\\Users\\shrfm\\.conda\\envs\\capstone-project\\lib\\site-packages\\keras\\backend\\tensorflow_backend.py:2548: calling reduce_sum_v1 (from tensorflow.python.ops.math_ops) with keep_dims is deprecated and will be removed in a future version.\n",
      "Instructions for updating:\n",
      "keep_dims is deprecated, use keepdims instead\n"
     ]
    }
   ],
   "source": [
    "#one-hot encoding the labels\n",
    "y_train_encoded = np_utils.to_categorical(y_train, 7)\n",
    "y_valid_encoded = np_utils.to_categorical(y_valid, 7)\n",
    "y_test_encoded = np_utils.to_categorical(y_test, 7)\n",
    "\n",
    "#Setting up architecture\n",
    "model = Sequential()\n",
    "model.add(Dense(192, activation='relu',input_shape=x_train.shape[1:]))\n",
    "model.add(Dropout(0.05))\n",
    "model.add(Dense(96, activation='relu'))\n",
    "model.add(Dense(48, activation='relu'))\n",
    "model.add(Dense(7, activation='softmax'))\n",
    "\n",
    "#Loading weights of saved model and compiling\n",
    "model.load_weights(\"MLP.weights.best.hdf5\")\n",
    "model.compile(loss = 'categorical_crossentropy', optimizer='adam', metrics=['accuracy'])"
   ]
  },
  {
   "cell_type": "code",
   "execution_count": 9,
   "metadata": {},
   "outputs": [
    {
     "name": "stdout",
     "output_type": "stream",
     "text": [
      "Set Accuracy =  40.3176372256841\n"
     ]
    }
   ],
   "source": [
    "#(x_test) and (y_test_encoded) can be changed to any of the other sets\n",
    "#(x_train, y_train_encoded)/(x_valid, y_valid_encoded)\n",
    "set_score = model.evaluate(x_test, y_test_encoded, verbose=0)\n",
    "print(\"Set Accuracy = \", 100*set_score[1])"
   ]
  },
  {
   "cell_type": "code",
   "execution_count": 10,
   "metadata": {
    "scrolled": true
   },
   "outputs": [
    {
     "name": "stdout",
     "output_type": "stream",
     "text": [
      "Emotion Accuracy =  23.45431790408563\n"
     ]
    }
   ],
   "source": [
    "#To test accuracy for specific emotion\n",
    "#Anger: 0; Disgust: 1; Fear: 2; Happiness: 3; Sadness: 4; Surprise: 5; Neutral:6\n",
    "\n",
    "emotion=0\n",
    "indexes=indexing(emotion,y_train)\n",
    "x_emotion=np.array(filtering(indexes, x_train))\n",
    "y_emotion=np.array(filtering(indexes, y_train_encoded))\n",
    "\n",
    "emotion_score = model.evaluate(x_emotion, y_emotion, verbose=0)\n",
    "print(\"Emotion Accuracy = \", 100*emotion_score[1])"
   ]
  },
  {
   "cell_type": "markdown",
   "metadata": {},
   "source": [
    "#### CNN"
   ]
  },
  {
   "cell_type": "code",
   "execution_count": 11,
   "metadata": {},
   "outputs": [
    {
     "name": "stderr",
     "output_type": "stream",
     "text": [
      "W0831 01:35:02.490355  1952 deprecation_wrapper.py:119] From C:\\Users\\shrfm\\.conda\\envs\\capstone-project\\lib\\site-packages\\keras\\backend\\tensorflow_backend.py:3012: The name tf.nn.max_pool is deprecated. Please use tf.nn.max_pool2d instead.\n",
      "\n"
     ]
    }
   ],
   "source": [
    "#Adjusting Input array sizes for convolutional network\n",
    "x_train_square_input = np.array(x_train_square).reshape([-1,48,48,1])\n",
    "x_valid_square_input = np.array(x_valid_square).reshape([-1,48,48,1])\n",
    "x_test_square_input = np.array(x_test_square).reshape([-1,48,48,1])\n",
    "\n",
    "#Setting up Architecture\n",
    "modelcnn = Sequential()\n",
    "modelcnn.add(Conv2D(32, kernel_size=2, strides=1, padding='same', activation='relu', input_shape=(48,48,1)))\n",
    "modelcnn.add(Conv2D(32, kernel_size=2, strides=1, padding='same', activation='relu'))\n",
    "modelcnn.add(MaxPooling2D(pool_size=2))\n",
    "\n",
    "modelcnn.add(Conv2D(64, kernel_size=2, strides=1, padding='same', activation='relu'))\n",
    "modelcnn.add(Conv2D(64, kernel_size=2, strides=1, padding='same', activation='relu'))\n",
    "modelcnn.add(MaxPooling2D(pool_size=2))\n",
    "\n",
    "modelcnn.add(Conv2D(128, kernel_size=2, strides=1, padding='same', activation='relu'))\n",
    "modelcnn.add(Conv2D(128, kernel_size=2, strides=1, padding='same', activation='relu'))\n",
    "modelcnn.add(MaxPooling2D(pool_size=2))\n",
    "\n",
    "modelcnn.add(Conv2D(286, kernel_size=2, strides=1, padding='same', activation='relu'))\n",
    "modelcnn.add(Conv2D(286, kernel_size=2, strides=1, padding='same', activation='relu'))\n",
    "modelcnn.add(GlobalAveragePooling2D())\n",
    "\n",
    "modelcnn.add(Dense(512, activation='relu'))\n",
    "modelcnn.add(Dropout(0.1))\n",
    "modelcnn.add(Dense(286, activation='relu'))\n",
    "modelcnn.add(Dropout(0.1))\n",
    "modelcnn.add(Dense(7, activation='softmax'))\n",
    "\n",
    "#Loading the best saved model and compiling\n",
    "modelcnn.load_weights(\"CNN.weights.best.hdf5\")\n",
    "modelcnn.compile(loss = 'categorical_crossentropy', optimizer='adam', metrics=['accuracy'])"
   ]
  },
  {
   "cell_type": "code",
   "execution_count": 12,
   "metadata": {},
   "outputs": [
    {
     "name": "stdout",
     "output_type": "stream",
     "text": [
      "Set Accuracy =  64.19615492112592\n"
     ]
    }
   ],
   "source": [
    "#(x_test) and (y_test_encoded) can be changed to any of the other sets\n",
    "#(x_train, y_train_encoded)/(x_valid, y_valid_encoded)\n",
    "set_score = modelcnn.evaluate(x_test_square_input, y_test_encoded, verbose=0)\n",
    "print(\"Set Accuracy = \", 100*set_score[1])"
   ]
  },
  {
   "cell_type": "code",
   "execution_count": 20,
   "metadata": {},
   "outputs": [
    {
     "name": "stdout",
     "output_type": "stream",
     "text": [
      "Emotion Accuracy =  64.33041302522223\n"
     ]
    }
   ],
   "source": [
    "#To test accuracy for specific emotion\n",
    "#Anger: 0; Disgust: 1; Fear: 2; Happiness: 3; Sadness: 4; Surprise: 5; Neutral:6\n",
    "\n",
    "emotion=0\n",
    "indexes=indexing(emotion,y_train)\n",
    "x_emotion=np.array(filtering(indexes, x_train_square_input))\n",
    "y_emotion=np.array(filtering(indexes, y_train_encoded))\n",
    "\n",
    "emotion_score = modelcnn.evaluate(x_emotion, y_emotion, verbose=0)\n",
    "print(\"Emotion Accuracy = \", 100*emotion_score[1])"
   ]
  }
 ],
 "metadata": {
  "kernelspec": {
   "display_name": "Capstone-Project",
   "language": "python",
   "name": "capstone-project"
  },
  "language_info": {
   "codemirror_mode": {
    "name": "ipython",
    "version": 3
   },
   "file_extension": ".py",
   "mimetype": "text/x-python",
   "name": "python",
   "nbconvert_exporter": "python",
   "pygments_lexer": "ipython3",
   "version": "3.5.6"
  }
 },
 "nbformat": 4,
 "nbformat_minor": 2
}
